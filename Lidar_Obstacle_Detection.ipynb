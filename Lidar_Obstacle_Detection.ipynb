{
 "cells": [
  {
   "cell_type": "markdown",
   "metadata": {},
   "source": [
    "# Udacity Sensor Fusion Nanodegree Program\n",
    "\n",
    "This notebook contains algorithm implementation from Udacity Sensor Fusion Nanodegree. In the program, all the codes are implemented in C++, this notebook translates those codes into Python"
   ]
  },
  {
   "cell_type": "markdown",
   "metadata": {},
   "source": [
    "## Lesson 1: Lidar Obstacle Detection"
   ]
  },
  {
   "cell_type": "markdown",
   "metadata": {},
   "source": [
    "### Import libraries"
   ]
  },
  {
   "cell_type": "code",
   "execution_count": 29,
   "metadata": {},
   "outputs": [],
   "source": [
    "import numpy as np\n",
    "from matplotlib import pyplot as plt\n",
    "\n",
    "from sklearn import datasets\n",
    "\n",
    "import random as rd\n",
    "\n",
    "from math import sqrt"
   ]
  },
  {
   "cell_type": "markdown",
   "metadata": {},
   "source": [
    "### Create datasets"
   ]
  },
  {
   "cell_type": "code",
   "execution_count": 12,
   "metadata": {},
   "outputs": [],
   "source": [
    "n_samples = 1000\n",
    "n_outliers = 50\n",
    "\n",
    "X, Y, coef = datasets.make_regression(n_samples=n_samples, n_features=1,\n",
    "                                      n_informative=1, noise=10,\n",
    "                                      coef=True, random_state=0)\n",
    "\n",
    "np.random.seed(0)\n",
    "X[:n_outliers] = 3 + 0.5 * np.random.normal(size=(n_outliers, 1))\n",
    "Y[:n_outliers] = -3 + 10 * np.random.normal(size=n_outliers)"
   ]
  },
  {
   "cell_type": "markdown",
   "metadata": {},
   "source": [
    "### Plot input data"
   ]
  },
  {
   "cell_type": "code",
   "execution_count": 13,
   "metadata": {},
   "outputs": [
    {
     "data": {
      "text/plain": [
       "[<matplotlib.lines.Line2D at 0x1ff98a6f610>]"
      ]
     },
     "execution_count": 13,
     "metadata": {},
     "output_type": "execute_result"
    },
    {
     "data": {
      "image/png": "[encoded data removed]",
      "text/plain": [
       "<Figure size 432x288 with 1 Axes>"
      ]
     },
     "metadata": {
      "needs_background": "light"
     },
     "output_type": "display_data"
    }
   ],
   "source": [
    "plt.plot(X, Y, 'o')"
   ]
  },
  {
   "cell_type": "code",
   "execution_count": 27,
   "metadata": {},
   "outputs": [
    {
     "data": {
      "text/plain": [
       "1"
      ]
     },
     "execution_count": 27,
     "metadata": {},
     "output_type": "execute_result"
    }
   ],
   "source": [
    "abs(-1)"
   ]
  },
  {
   "cell_type": "markdown",
   "metadata": {},
   "source": [
    "### Use RANSAC algorithm for segmentation"
   ]
  },
  {
   "cell_type": "code",
   "execution_count": 72,
   "metadata": {},
   "outputs": [
    {
     "data": {
      "text/plain": [
       "[<matplotlib.lines.Line2D at 0x1ff9cb21550>]"
      ]
     },
     "execution_count": 72,
     "metadata": {},
     "output_type": "execute_result"
    },
    {
     "data": {
      "image/png": "[encoded data removed]",
      "text/plain": [
       "<Figure size 432x288 with 1 Axes>"
      ]
     },
     "metadata": {
      "needs_background": "light"
     },
     "output_type": "display_data"
    }
   ],
   "source": [
    "max_iter = 10\n",
    "inliers = []\n",
    "\n",
    "inliers_x = []\n",
    "inliers_y = []\n",
    "\n",
    "distanceTol = 0.1\n",
    "\n",
    "while (max_iter > 0):\n",
    "    \n",
    "    #pick 2 random points\n",
    "    index1 = rd.randrange(0,n_samples)\n",
    "    index2 = rd.randrange(0,n_samples)\n",
    "    \n",
    "    x1 = X[index1]\n",
    "    y1 = Y[index1]\n",
    "    \n",
    "    x2 = X[index2]\n",
    "    y2 = Y[index2]\n",
    "    \n",
    "    a = (y1-y2)\n",
    "    b = (x2-x1)\n",
    "    c = (x1*y2-x2*y1)\n",
    "    \n",
    "    for i in range(0, n_samples):\n",
    "        if(i in inliers):\n",
    "            continue\n",
    "            \n",
    "        x3 = X[i]\n",
    "        y3 = Y[i]\n",
    "        \n",
    "        d = abs(a*x3+b*y3+c)/sqrt(a*a+b*b)\n",
    "        \n",
    "        if (d<=distanceTol):\n",
    "            inliers.append(i)\n",
    "            inliers_x.append(X[i])\n",
    "            inliers_y.append(Y[i])\n",
    "            \n",
    "    max_iter = max_iter-1\n",
    "    \n",
    "plt.plot(X, Y, 'or')\n",
    "plt.plot(inliers_x, inliers_y, 'og')"
   ]
  }
 ],
 "metadata": {
  "kernelspec": {
   "display_name": "Python 3",
   "language": "python",
   "name": "python3"
  },
  "language_info": {
   "codemirror_mode": {
    "name": "ipython",
    "version": 3
   },
   "file_extension": ".py",
   "mimetype": "text/x-python",
   "name": "python",
   "nbconvert_exporter": "python",
   "pygments_lexer": "ipython3",
   "version": "3.8.5"
  }
 },
 "nbformat": 4,
 "nbformat_minor": 4
}
